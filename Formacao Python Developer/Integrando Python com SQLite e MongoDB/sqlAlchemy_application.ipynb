{
 "cells": [
  {
   "cell_type": "markdown",
   "metadata": {},
   "source": [
    "## Parte 1 - Implementando um Banco de Dados Relacional com SQLAlchemy"
   ]
  },
  {
   "cell_type": "code",
   "execution_count": 15,
   "metadata": {},
   "outputs": [],
   "source": [
    "from sqlalchemy.orm import declarative_base\n",
    "from sqlalchemy.orm import relationship\n",
    "from sqlalchemy.orm import Session\n",
    "from sqlalchemy import create_engine\n",
    "from sqlalchemy import inspect\n",
    "from sqlalchemy import Column\n",
    "from sqlalchemy import select\n",
    "from sqlalchemy import Integer\n",
    "from sqlalchemy import String\n",
    "from sqlalchemy import Double\n",
    "from sqlalchemy import ForeignKey"
   ]
  },
  {
   "cell_type": "code",
   "execution_count": 16,
   "metadata": {},
   "outputs": [],
   "source": [
    "Base = declarative_base()"
   ]
  },
  {
   "cell_type": "code",
   "execution_count": 17,
   "metadata": {},
   "outputs": [],
   "source": [
    "class Cliente(Base):\n",
    "    __tablename__ = \"cliente\"\n",
    "    id = Column(Integer, primary_key=True)\n",
    "    nome = Column(String(50), nullable=False)\n",
    "    cpf = Column(String(11), nullable=False, unique=True)\n",
    "    endereco = Column(String(100), nullable=False)\n",
    "\n",
    "    conta = relationship(\n",
    "        \"Conta\", back_populates=\"cliente\", cascade=\"all, delete-orphan\"\n",
    "    )\n",
    "\n",
    "    def __repr__(self):\n",
    "        return f\"Cliente(id={self.id}, nome={self.nome}, cpf={self.cpf}, endereco={self.endereco})\"\n",
    "\n",
    "\n",
    "class Conta(Base):\n",
    "    __tablename__ = \"conta\"\n",
    "    id = Column(Integer, primary_key=True)\n",
    "    tipo = Column(String, nullable=False)\n",
    "    agencia = Column(String, nullable=False)\n",
    "    numero = Column(Integer, unique=True, nullable=False)\n",
    "    id_cliente = Column(Integer, ForeignKey(\"cliente.id\"), nullable=False)\n",
    "    saldo = Column(Double)\n",
    "\n",
    "    cliente = relationship(\"Cliente\", back_populates=\"conta\")\n",
    "\n",
    "    def __repr__(self):\n",
    "        return f\"Conta(id={self.id}, agencia={self.agencia}, numero={self.numero}, saldo={self.saldo})\""
   ]
  },
  {
   "cell_type": "markdown",
   "metadata": {},
   "source": [
    "### Conexao com o DB"
   ]
  },
  {
   "cell_type": "code",
   "execution_count": 18,
   "metadata": {},
   "outputs": [],
   "source": [
    "engine = create_engine(\"sqlite://\")"
   ]
  },
  {
   "cell_type": "markdown",
   "metadata": {},
   "source": [
    "### Criando tabelas"
   ]
  },
  {
   "cell_type": "code",
   "execution_count": 19,
   "metadata": {},
   "outputs": [],
   "source": [
    "Base.metadata.create_all(engine)"
   ]
  },
  {
   "cell_type": "markdown",
   "metadata": {},
   "source": [
    "### Inspecionado o DB"
   ]
  },
  {
   "cell_type": "code",
   "execution_count": 20,
   "metadata": {},
   "outputs": [],
   "source": [
    "insp = inspect(engine)"
   ]
  },
  {
   "cell_type": "markdown",
   "metadata": {},
   "source": [
    "### Retornando o nome das tabelas"
   ]
  },
  {
   "cell_type": "code",
   "execution_count": 21,
   "metadata": {},
   "outputs": [
    {
     "name": "stdout",
     "output_type": "stream",
     "text": [
      "['cliente', 'conta']\n"
     ]
    }
   ],
   "source": [
    "print(insp.get_table_names())"
   ]
  },
  {
   "cell_type": "markdown",
   "metadata": {},
   "source": [
    "### Insercao dos dados"
   ]
  },
  {
   "cell_type": "code",
   "execution_count": 22,
   "metadata": {},
   "outputs": [],
   "source": [
    "with Session(engine) as session:\n",
    "    Marcos = Cliente(\n",
    "        nome= \"Marcos\",\n",
    "        cpf= \"44027770312\",\n",
    "        endereco= \"Rua qualquercoisa, 68\",\n",
    "        conta= [Conta(\n",
    "            tipo= \"conta_corrente\",\n",
    "            agencia= \"547\",\n",
    "            numero= 1245976,\n",
    "            saldo= 100.00\n",
    "        )]\n",
    "    )\n",
    "\n",
    "    Maria = Cliente(\n",
    "        nome= \"Maria\",\n",
    "        cpf= \"34017975328\",\n",
    "        endereco= \"Lugar nenhum, 68\",\n",
    "        conta= [Conta(\n",
    "            tipo= \"conta_corrente\",\n",
    "            agencia= \"789\",\n",
    "            numero= 1346798,\n",
    "            saldo= 500.00\n",
    "        )]\n",
    "    )\n",
    "\n",
    "    Julio = Cliente(\n",
    "        nome= \"Julio\",\n",
    "        cpf= \"71517177388\",\n",
    "        endereco= \"Lugar nenhum, 68\",\n",
    "        conta= [Conta(\n",
    "            tipo= \"conta_poupanca\",\n",
    "            agencia= \"565\",\n",
    "            numero= 1597536,\n",
    "            saldo= 1500.00\n",
    "        )]\n",
    "    )"
   ]
  },
  {
   "cell_type": "markdown",
   "metadata": {},
   "source": [
    "### Enviando dados para o DB"
   ]
  },
  {
   "cell_type": "code",
   "execution_count": 23,
   "metadata": {},
   "outputs": [],
   "source": [
    "session.add_all([Marcos, Maria, Julio])\n",
    "session.commit()"
   ]
  },
  {
   "cell_type": "markdown",
   "metadata": {},
   "source": [
    "### Recuperando dados das tabelas"
   ]
  },
  {
   "cell_type": "code",
   "execution_count": 25,
   "metadata": {},
   "outputs": [
    {
     "name": "stdout",
     "output_type": "stream",
     "text": [
      "Cliente(id=1, nome=Marcos, cpf=44027770312, endereco=Rua qualquercoisa, 68)\n",
      "Cliente(id=3, nome=Julio, cpf=71517177388, endereco=Lugar nenhum, 68)\n"
     ]
    }
   ],
   "source": [
    "dados = select(Cliente).where(Cliente.nome.in_([\"Marcos\", \"Julio\"]))\n",
    "for dado in session.scalars(dados):\n",
    "    print(dado)"
   ]
  },
  {
   "cell_type": "code",
   "execution_count": 26,
   "metadata": {},
   "outputs": [
    {
     "name": "stdout",
     "output_type": "stream",
     "text": [
      "Conta(id=2, agencia=789, numero=1346798, saldo=500.0)\n"
     ]
    }
   ],
   "source": [
    "dados = select(Conta).where(Conta.id.in_([2]))\n",
    "for dado in session.scalars(dados):\n",
    "    print(dado)"
   ]
  },
  {
   "cell_type": "markdown",
   "metadata": {},
   "source": [
    "### Manipulando Dados"
   ]
  },
  {
   "cell_type": "code",
   "execution_count": 27,
   "metadata": {},
   "outputs": [
    {
     "name": "stdout",
     "output_type": "stream",
     "text": [
      "Cliente(id=3, nome=Julio, cpf=71517177388, endereco=Lugar nenhum, 68)\n",
      "Cliente(id=1, nome=Marcos, cpf=44027770312, endereco=Rua qualquercoisa, 68)\n",
      "Cliente(id=2, nome=Maria, cpf=34017975328, endereco=Lugar nenhum, 68)\n"
     ]
    }
   ],
   "source": [
    "dados_ordem = select(Cliente).order_by(Cliente.nome)\n",
    "for ordem in session.scalars(dados_ordem):\n",
    "    print(ordem)"
   ]
  },
  {
   "cell_type": "code",
   "execution_count": 30,
   "metadata": {},
   "outputs": [
    {
     "name": "stdout",
     "output_type": "stream",
     "text": [
      "('Marcos', 'conta_corrente', 1245976, 100.0)\n",
      "('Maria', 'conta_corrente', 1346798, 500.0)\n",
      "('Julio', 'conta_poupanca', 1597536, 1500.0)\n"
     ]
    }
   ],
   "source": [
    "connection = engine.connect()\n",
    "\n",
    "dados_join = select(Cliente.nome, Conta.tipo, Conta.numero, Conta.saldo).join_from(Conta, Cliente)\n",
    "dados = connection.execute(dados_join).fetchall()\n",
    "for dado in dados:\n",
    "    print(dado)"
   ]
  }
 ],
 "metadata": {
  "kernelspec": {
   "display_name": "Python 3 (ipykernel)",
   "language": "python",
   "name": "python3"
  }
 },
 "nbformat": 4,
 "nbformat_minor": 2
}

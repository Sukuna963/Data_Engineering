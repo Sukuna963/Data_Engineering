{
 "cells": [
  {
   "cell_type": "markdown",
   "metadata": {},
   "source": [
    "## Parte 2 – Implementando um Banco de Dados NoSQL com Pymongo"
   ]
  },
  {
   "cell_type": "code",
   "execution_count": 1,
   "metadata": {},
   "outputs": [],
   "source": [
    "from pymongo import MongoClient\n",
    "from pprint import pprint"
   ]
  },
  {
   "cell_type": "markdown",
   "metadata": {},
   "source": [
    "### Conexao com o MongoDb Atlas"
   ]
  },
  {
   "cell_type": "code",
   "execution_count": 2,
   "metadata": {},
   "outputs": [],
   "source": [
    "client = MongoClient(\"mongoDb://Atlas\")"
   ]
  },
  {
   "cell_type": "code",
   "execution_count": 3,
   "metadata": {},
   "outputs": [
    {
     "data": {
      "text/plain": [
       "['bank', 'admin', 'local']"
      ]
     },
     "execution_count": 3,
     "metadata": {},
     "output_type": "execute_result"
    }
   ],
   "source": [
    "client.list_database_names()"
   ]
  },
  {
   "cell_type": "code",
   "execution_count": 4,
   "metadata": {},
   "outputs": [],
   "source": [
    "db = client.bank"
   ]
  },
  {
   "cell_type": "markdown",
   "metadata": {},
   "source": [
    "### Inserindo documentos"
   ]
  },
  {
   "cell_type": "code",
   "execution_count": 5,
   "metadata": {},
   "outputs": [],
   "source": [
    "bank_accounts = [\n",
    "    {\n",
    "        \"nome\": \"Marcos\",\n",
    "        \"cpf\": \"44027770312\",\n",
    "        \"endereco\": \"Rua qualquercoisa, 68\",\n",
    "        \"conta\": [{\n",
    "            \"tipo\": \"conta_corrente\",\n",
    "            \"agencia\": \"547\",\n",
    "            \"numero\": 1245976,\n",
    "            \"saldo\": 100.00\n",
    "        }]\n",
    "    },\n",
    "    {\n",
    "        \"nome\": \"Maria\",\n",
    "        \"cpf\": \"34017975328\",\n",
    "        \"endereco\": \"Lugar nenhum, 68\",\n",
    "        \"conta\": [{\n",
    "            \"tipo\": \"conta_corrente\",\n",
    "            \"agencia\": \"789\",\n",
    "            \"numero\": 1346798,\n",
    "            \"saldo\": 500.00\n",
    "        }]\n",
    "    },\n",
    "    {\n",
    "        \"nome\": \"Julio\",\n",
    "        \"cpf\": \"71517177388\",\n",
    "        \"endereco\": \"Lugar nenhum, 68\",\n",
    "        \"conta\": [{\n",
    "            \"tipo\": \"conta_poupanca\",\n",
    "            \"agencia\": \"565\",\n",
    "            \"numero\": 1597536,\n",
    "            \"saldo\": 1500.00\n",
    "        }]\n",
    "    }\n",
    "    ]"
   ]
  },
  {
   "cell_type": "code",
   "execution_count": 6,
   "metadata": {},
   "outputs": [],
   "source": [
    "accounts = db.accounts\n",
    "account_id = accounts.insert_many(bank_accounts)"
   ]
  },
  {
   "cell_type": "markdown",
   "metadata": {},
   "source": [
    "### Recuperando Documentos"
   ]
  },
  {
   "cell_type": "code",
   "execution_count": 7,
   "metadata": {},
   "outputs": [
    {
     "name": "stdout",
     "output_type": "stream",
     "text": [
      "{'_id': ObjectId('666384004ecee5369237570a'),\n",
      " 'conta': [{'agencia': '547',\n",
      "            'numero': 1245976,\n",
      "            'saldo': 100.0,\n",
      "            'tipo': 'conta_corrente'}],\n",
      " 'cpf': '44027770312',\n",
      " 'endereco': 'Rua qualquercoisa, 68',\n",
      " 'nome': 'Marcos'}\n"
     ]
    }
   ],
   "source": [
    "pprint(accounts.find_one())"
   ]
  },
  {
   "cell_type": "code",
   "execution_count": 8,
   "metadata": {},
   "outputs": [
    {
     "name": "stdout",
     "output_type": "stream",
     "text": [
      "{'_id': ObjectId('666384004ecee5369237570c'),\n",
      " 'conta': [{'agencia': '565',\n",
      "            'numero': 1597536,\n",
      "            'saldo': 1500.0,\n",
      "            'tipo': 'conta_poupanca'}],\n",
      " 'cpf': '71517177388',\n",
      " 'endereco': 'Lugar nenhum, 68',\n",
      " 'nome': 'Julio'}\n"
     ]
    }
   ],
   "source": [
    "pprint(accounts.find_one({\"nome\": \"Julio\"}))"
   ]
  },
  {
   "cell_type": "code",
   "execution_count": 9,
   "metadata": {},
   "outputs": [
    {
     "name": "stdout",
     "output_type": "stream",
     "text": [
      "{'_id': ObjectId('666384004ecee5369237570a'),\n",
      " 'conta': [{'agencia': '547',\n",
      "            'numero': 1245976,\n",
      "            'saldo': 100.0,\n",
      "            'tipo': 'conta_corrente'}],\n",
      " 'cpf': '44027770312',\n",
      " 'endereco': 'Rua qualquercoisa, 68',\n",
      " 'nome': 'Marcos'}\n",
      "{'_id': ObjectId('666384004ecee5369237570b'),\n",
      " 'conta': [{'agencia': '789',\n",
      "            'numero': 1346798,\n",
      "            'saldo': 500.0,\n",
      "            'tipo': 'conta_corrente'}],\n",
      " 'cpf': '34017975328',\n",
      " 'endereco': 'Lugar nenhum, 68',\n",
      " 'nome': 'Maria'}\n",
      "{'_id': ObjectId('666384004ecee5369237570c'),\n",
      " 'conta': [{'agencia': '565',\n",
      "            'numero': 1597536,\n",
      "            'saldo': 1500.0,\n",
      "            'tipo': 'conta_poupanca'}],\n",
      " 'cpf': '71517177388',\n",
      " 'endereco': 'Lugar nenhum, 68',\n",
      " 'nome': 'Julio'}\n",
      "{'_id': ObjectId('66638849cee06852877c1c27'),\n",
      " 'conta': [{'agencia': '547',\n",
      "            'numero': 1245976,\n",
      "            'saldo': 100.0,\n",
      "            'tipo': 'conta_corrente'}],\n",
      " 'cpf': '44027770312',\n",
      " 'endereco': 'Rua qualquercoisa, 68',\n",
      " 'nome': 'Marcos'}\n",
      "{'_id': ObjectId('66638849cee06852877c1c28'),\n",
      " 'conta': [{'agencia': '789',\n",
      "            'numero': 1346798,\n",
      "            'saldo': 500.0,\n",
      "            'tipo': 'conta_corrente'}],\n",
      " 'cpf': '34017975328',\n",
      " 'endereco': 'Lugar nenhum, 68',\n",
      " 'nome': 'Maria'}\n",
      "{'_id': ObjectId('66638849cee06852877c1c29'),\n",
      " 'conta': [{'agencia': '565',\n",
      "            'numero': 1597536,\n",
      "            'saldo': 1500.0,\n",
      "            'tipo': 'conta_poupanca'}],\n",
      " 'cpf': '71517177388',\n",
      " 'endereco': 'Lugar nenhum, 68',\n",
      " 'nome': 'Julio'}\n"
     ]
    }
   ],
   "source": [
    "for account in accounts.find():\n",
    "    pprint(account)"
   ]
  },
  {
   "cell_type": "code",
   "execution_count": 10,
   "metadata": {},
   "outputs": [
    {
     "name": "stdout",
     "output_type": "stream",
     "text": [
      "{'_id': ObjectId('666384004ecee5369237570b'),\n",
      " 'conta': [{'agencia': '789',\n",
      "            'numero': 1346798,\n",
      "            'saldo': 500.0,\n",
      "            'tipo': 'conta_corrente'}],\n",
      " 'cpf': '34017975328',\n",
      " 'endereco': 'Lugar nenhum, 68',\n",
      " 'nome': 'Maria'}\n",
      "{'_id': ObjectId('666384004ecee5369237570c'),\n",
      " 'conta': [{'agencia': '565',\n",
      "            'numero': 1597536,\n",
      "            'saldo': 1500.0,\n",
      "            'tipo': 'conta_poupanca'}],\n",
      " 'cpf': '71517177388',\n",
      " 'endereco': 'Lugar nenhum, 68',\n",
      " 'nome': 'Julio'}\n",
      "{'_id': ObjectId('66638849cee06852877c1c28'),\n",
      " 'conta': [{'agencia': '789',\n",
      "            'numero': 1346798,\n",
      "            'saldo': 500.0,\n",
      "            'tipo': 'conta_corrente'}],\n",
      " 'cpf': '34017975328',\n",
      " 'endereco': 'Lugar nenhum, 68',\n",
      " 'nome': 'Maria'}\n",
      "{'_id': ObjectId('66638849cee06852877c1c29'),\n",
      " 'conta': [{'agencia': '565',\n",
      "            'numero': 1597536,\n",
      "            'saldo': 1500.0,\n",
      "            'tipo': 'conta_poupanca'}],\n",
      " 'cpf': '71517177388',\n",
      " 'endereco': 'Lugar nenhum, 68',\n",
      " 'nome': 'Julio'}\n"
     ]
    }
   ],
   "source": [
    "for account in accounts.find({\"endereco\": \"Lugar nenhum, 68\"}):\n",
    "    pprint(account)"
   ]
  },
  {
   "cell_type": "markdown",
   "metadata": {},
   "source": [
    "### Manipulando Documentos"
   ]
  },
  {
   "cell_type": "code",
   "execution_count": 11,
   "metadata": {},
   "outputs": [
    {
     "name": "stdout",
     "output_type": "stream",
     "text": [
      "{'_id': ObjectId('666384004ecee5369237570c'),\n",
      " 'conta': [{'agencia': '565',\n",
      "            'numero': 1597536,\n",
      "            'saldo': 1500.0,\n",
      "            'tipo': 'conta_poupanca'}],\n",
      " 'cpf': '71517177388',\n",
      " 'endereco': 'Lugar nenhum, 68',\n",
      " 'nome': 'Julio'}\n",
      "{'_id': ObjectId('66638849cee06852877c1c29'),\n",
      " 'conta': [{'agencia': '565',\n",
      "            'numero': 1597536,\n",
      "            'saldo': 1500.0,\n",
      "            'tipo': 'conta_poupanca'}],\n",
      " 'cpf': '71517177388',\n",
      " 'endereco': 'Lugar nenhum, 68',\n",
      " 'nome': 'Julio'}\n",
      "{'_id': ObjectId('666384004ecee5369237570a'),\n",
      " 'conta': [{'agencia': '547',\n",
      "            'numero': 1245976,\n",
      "            'saldo': 100.0,\n",
      "            'tipo': 'conta_corrente'}],\n",
      " 'cpf': '44027770312',\n",
      " 'endereco': 'Rua qualquercoisa, 68',\n",
      " 'nome': 'Marcos'}\n",
      "{'_id': ObjectId('66638849cee06852877c1c27'),\n",
      " 'conta': [{'agencia': '547',\n",
      "            'numero': 1245976,\n",
      "            'saldo': 100.0,\n",
      "            'tipo': 'conta_corrente'}],\n",
      " 'cpf': '44027770312',\n",
      " 'endereco': 'Rua qualquercoisa, 68',\n",
      " 'nome': 'Marcos'}\n",
      "{'_id': ObjectId('666384004ecee5369237570b'),\n",
      " 'conta': [{'agencia': '789',\n",
      "            'numero': 1346798,\n",
      "            'saldo': 500.0,\n",
      "            'tipo': 'conta_corrente'}],\n",
      " 'cpf': '34017975328',\n",
      " 'endereco': 'Lugar nenhum, 68',\n",
      " 'nome': 'Maria'}\n",
      "{'_id': ObjectId('66638849cee06852877c1c28'),\n",
      " 'conta': [{'agencia': '789',\n",
      "            'numero': 1346798,\n",
      "            'saldo': 500.0,\n",
      "            'tipo': 'conta_corrente'}],\n",
      " 'cpf': '34017975328',\n",
      " 'endereco': 'Lugar nenhum, 68',\n",
      " 'nome': 'Maria'}\n"
     ]
    }
   ],
   "source": [
    "for account in accounts.find({}).sort(\"nome\"):\n",
    "    pprint(account)"
   ]
  }
 ],
 "metadata": {
  "kernelspec": {
   "display_name": "Python 3 (ipykernel)",
   "language": "python",
   "name": "python3"
  }
 },
 "nbformat": 4,
 "nbformat_minor": 2
}
